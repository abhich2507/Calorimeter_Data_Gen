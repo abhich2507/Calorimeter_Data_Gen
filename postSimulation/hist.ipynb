{
 "cells": [
  {
   "cell_type": "code",
   "execution_count": 3,
   "metadata": {},
   "outputs": [
    {
     "name": "stdout",
     "output_type": "stream",
     "text": [
      "******************************************************************************\n",
      "*Tree    :part_info : part_info                                              *\n",
      "*Entries : 6912105832 : Total =    831379471460 bytes  File  Size = 303917589441 *\n",
      "*        :          : Tree compression factor =   2.74                       *\n",
      "******************************************************************************\n",
      "*Br    0 :event_id  : Double_t part_info                                     *\n",
      "*Entries :6912105832 : Total  Size=83138811128 bytes  File Size  = 8383706128 *\n",
      "*Baskets :  1728043 : Basket Size=      32000 bytes  Compression=   9.91     *\n",
      "*............................................................................*\n",
      "*Br    1 :part_id   : Double_t part_info                                     *\n",
      "*Entries :6912105832 : Total  Size=83137083082 bytes  File Size  = 11625727011 *\n",
      "*Baskets :  1728043 : Basket Size=      32000 bytes  Compression=   7.15     *\n",
      "*............................................................................*\n",
      "*Br    2 :track_id  : Double_t part_info                                     *\n",
      "*Entries :6912105832 : Total  Size=83138811128 bytes  File Size  = 14381540982 *\n",
      "*Baskets :  1728043 : Basket Size=      32000 bytes  Compression=   5.78     *\n",
      "*............................................................................*\n",
      "*Br    3 :parent_id : Double_t part_info                                     *\n",
      "*Entries :6912105832 : Total  Size=83140539174 bytes  File Size  = 13485795409 *\n",
      "*Baskets :  1728043 : Basket Size=      32000 bytes  Compression=   6.16     *\n",
      "*............................................................................*\n",
      "*Br    4 :mom       : Double_t part_info                                     *\n",
      "*Entries :6912105832 : Total  Size=83130170898 bytes  File Size  = 52655591205 *\n",
      "*Baskets :  1728043 : Basket Size=      32000 bytes  Compression=   1.58     *\n",
      "*............................................................................*\n",
      "*Br    5 :edepo     : Double_t part_info                                     *\n",
      "*Entries :6912105832 : Total  Size=83133626990 bytes  File Size  = 56586291783 *\n",
      "*Baskets :  1728043 : Basket Size=      32000 bytes  Compression=   1.47     *\n",
      "*............................................................................*\n",
      "*Br    6 :deltae    : Double_t part_info                                     *\n",
      "*Entries :6912105832 : Total  Size=83135355036 bytes  File Size  = 59874878648 *\n",
      "*Baskets :  1728043 : Basket Size=      32000 bytes  Compression=   1.39     *\n",
      "*............................................................................*\n",
      "*Br    7 :global_t  : Double_t part_info                                     *\n",
      "*Entries :6912105832 : Total  Size=83138811128 bytes  File Size  = 57753222476 *\n",
      "*Baskets :  1728043 : Basket Size=      32000 bytes  Compression=   1.44     *\n",
      "*............................................................................*\n",
      "*Br    8 :cublet_idx : Double_t part_info                                    *\n",
      "*Entries :6912105832 : Total  Size=83142267220 bytes  File Size  = 12402348193 *\n",
      "*Baskets :  1728043 : Basket Size=      32000 bytes  Compression=   6.70     *\n",
      "*............................................................................*\n",
      "*Br    9 :cell_in_cub : Double_t part_info                                   *\n",
      "*Entries :6912105832 : Total  Size=83143995266 bytes  File Size  = 16604103811 *\n",
      "*Baskets :  1728043 : Basket Size=      32000 bytes  Compression=   5.00     *\n",
      "*............................................................................*\n"
     ]
    }
   ],
   "source": [
    "import ROOT\n",
    "file = ROOT.TFile(\"/mnt/d/proton.root\")\n",
    "tree=file.Get(\"part_info\")\n",
    "tree.Print()"
   ]
  },
  {
   "cell_type": "code",
   "execution_count": 7,
   "metadata": {},
   "outputs": [
    {
     "name": "stderr",
     "output_type": "stream",
     "text": [
      "Warning in <TCanvas::Constructor>: Deleting canvas with same name: canvas\n",
      "Info in <TCanvas::Print>: png file histogram.png has been created\n"
     ]
    }
   ],
   "source": [
    "canvas = ROOT.TCanvas(\"canvas\", \"Histogram Canvas\", 800, 600)\n",
    "tree.Draw(\"edepo>>hist(100, 0, 5*10e9)\")\n",
    "hist = ROOT.gDirectory.Get(\"hist\")\n",
    "\n",
    "# Draw the histogram\n",
    "hist.Draw()\n",
    "canvas.SaveAs(\"histogram.png\")  # Or \"histogram.pdf\""
   ]
  }
 ],
 "metadata": {
  "kernelspec": {
   "display_name": "root_py39",
   "language": "python",
   "name": "python3"
  },
  "language_info": {
   "codemirror_mode": {
    "name": "ipython",
    "version": 3
   },
   "file_extension": ".py",
   "mimetype": "text/x-python",
   "name": "python",
   "nbconvert_exporter": "python",
   "pygments_lexer": "ipython3",
   "version": "3.9.20"
  }
 },
 "nbformat": 4,
 "nbformat_minor": 2
}
